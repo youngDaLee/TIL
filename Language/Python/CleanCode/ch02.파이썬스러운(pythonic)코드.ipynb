{
 "cells": [
  {
   "cell_type": "markdown",
   "metadata": {},
   "source": [
    "파이썬스러운(Pythonic) 코드를 작성하는 이유\n",
    "- 관용적인 방식으로 코드를 작성했을 때 일반적으로 더 나은 성능을 냄\n",
    "- 코드가 더 적고 이해하기 쉬움\n",
    "- 전체 개발팀이 동일한 패턴과 구조에 익숙해지면 실수를 줄이고 문제의 본질에 보다 집중할 수 있음   \n",
    "\n",
    "\n",
    "이 장의 목표\n",
    "- 인덱스와 슬라이스를 이해하고 인덱싱 가능한 올바른 방식으로 구현\n",
    "- 시퀀스와 이터러블 구현\n",
    "- 컨텍스트 관리자를 만드는 모범사례 연구\n",
    "- 매직메서드를 사용해 보다 관용적인 코드 구현\n",
    "- 파이썬에서 부작용을 유발하는 흔한 실수 피하기"
   ]
  },
  {
   "cell_type": "markdown",
   "metadata": {},
   "source": [
    "# 인덱스와 슬라이스\n",
    "일반적인 프로그래밍 언어와 마찬가지로 0부터 시작. 하지만 파이썬은 다른 언어와 색다른 방법으로 접근 지원.   \n",
    "\n",
    "\n",
    "**음수 인덱스** 사용해서 끝에서부터 접근 가능"
   ]
  },
  {
   "cell_type": "code",
   "execution_count": 1,
   "metadata": {},
   "outputs": [
    {
     "data": {
      "text/plain": [
       "9"
      ]
     },
     "execution_count": 1,
     "metadata": {},
     "output_type": "execute_result"
    }
   ],
   "source": [
    "my_num = (4,5,3,9)\n",
    "my_num[-1]"
   ]
  },
  {
   "cell_type": "code",
   "execution_count": 2,
   "metadata": {},
   "outputs": [
    {
     "data": {
      "text/plain": [
       "5"
      ]
     },
     "execution_count": 2,
     "metadata": {},
     "output_type": "execute_result"
    }
   ],
   "source": [
    "my_num[-3]"
   ]
  },
  {
   "cell_type": "markdown",
   "metadata": {},
   "source": [
    "**slice** 를 사용해 특정 구간의 요소를 구할 수 있음"
   ]
  },
  {
   "cell_type": "code",
   "execution_count": 3,
   "metadata": {},
   "outputs": [
    {
     "data": {
      "text/plain": [
       "(2, 3, 5)"
      ]
     },
     "execution_count": 3,
     "metadata": {},
     "output_type": "execute_result"
    }
   ],
   "source": [
    "my_num = (1,1,2,3,5,8,13,21)\n",
    "my_num[2:5]"
   ]
  },
  {
   "cell_type": "markdown",
   "metadata": {},
   "source": [
    "- 튜플의 2번째 이상, 5번째 미만 구간의 값을 가져옴"
   ]
  },
  {
   "cell_type": "code",
   "execution_count": 5,
   "metadata": {},
   "outputs": [
    {
     "data": {
      "text/plain": [
       "(1, 1, 2)"
      ]
     },
     "execution_count": 5,
     "metadata": {},
     "output_type": "execute_result"
    }
   ],
   "source": [
    "my_num[:3]"
   ]
  },
  {
   "cell_type": "markdown",
   "metadata": {},
   "source": [
    "0번째~ 3번째 미만"
   ]
  },
  {
   "cell_type": "code",
   "execution_count": 6,
   "metadata": {},
   "outputs": [
    {
     "data": {
      "text/plain": [
       "(3, 5, 8, 13, 21)"
      ]
     },
     "execution_count": 6,
     "metadata": {},
     "output_type": "execute_result"
    }
   ],
   "source": [
    "my_num[3:]"
   ]
  },
  {
   "cell_type": "markdown",
   "metadata": {},
   "source": [
    "3번째 인덱스 이상"
   ]
  },
  {
   "cell_type": "code",
   "execution_count": 7,
   "metadata": {},
   "outputs": [
    {
     "data": {
      "text/plain": [
       "(1, 1, 2, 3, 5, 8, 13, 21)"
      ]
     },
     "execution_count": 7,
     "metadata": {},
     "output_type": "execute_result"
    }
   ],
   "source": [
    "my_num[::]"
   ]
  },
  {
   "cell_type": "code",
   "execution_count": 8,
   "metadata": {},
   "outputs": [
    {
     "data": {
      "text/plain": [
       "(1, 3, 8)"
      ]
     },
     "execution_count": 8,
     "metadata": {},
     "output_type": "execute_result"
    }
   ],
   "source": [
    "my_num[1:7:2]"
   ]
  },
  {
   "cell_type": "markdown",
   "metadata": {},
   "source": [
    "세번째 건 간격.. 1이상 7미만을 2 step만큼 인덱싱함"
   ]
  },
  {
   "cell_type": "code",
   "execution_count": 9,
   "metadata": {},
   "outputs": [
    {
     "data": {
      "text/plain": [
       "(1, 3, 8)"
      ]
     },
     "execution_count": 9,
     "metadata": {},
     "output_type": "execute_result"
    }
   ],
   "source": [
    "interval = slice(1,7,2)\n",
    "my_num[interval]"
   ]
  },
  {
   "cell_type": "markdown",
   "metadata": {},
   "source": [
    "- 이렇게 파이썬 내장 객체로 직접 빌드해서 전달 할 수도 있음"
   ]
  },
  {
   "cell_type": "code",
   "execution_count": 10,
   "metadata": {},
   "outputs": [
    {
     "data": {
      "text/plain": [
       "(1, 1, 2)"
      ]
     },
     "execution_count": 10,
     "metadata": {},
     "output_type": "execute_result"
    }
   ],
   "source": [
    "interval = slice(None, 3)\n",
    "my_num[interval]"
   ]
  },
  {
   "cell_type": "code",
   "execution_count": 11,
   "metadata": {},
   "outputs": [
    {
     "data": {
      "text/plain": [
       "True"
      ]
     },
     "execution_count": 11,
     "metadata": {},
     "output_type": "execute_result"
    }
   ],
   "source": [
    "interval = slice(None, 3)\n",
    "my_num[interval] == my_num[:3]"
   ]
  },
  {
   "cell_type": "markdown",
   "metadata": {},
   "source": [
    "slice(시작,중지,간격) 중 하나 지정 안하면 None으로 간주"
   ]
  },
  {
   "cell_type": "markdown",
   "metadata": {},
   "source": [
    "## 자체 시퀀스 생성\n",
    "`slice` 기능은 `__getitem__` 이란 매직메서드 덕분에 동작함. 이것은 `myobject[key]` 와 같은 형태를 사용할 때 호출되는 메서드... key에 해당하는 대괄호 안의 값을 파라미터로 전달함. 특히 시퀀스(리스트, 튜플 등 연속된 값)는 `__getitem__` 과 `__len__` 모두 구현하는 객체라 반복가능. 시퀀스나 이터러블 객체를 만들지 않고 키로 객체의 특정 요소를 가져오는 방법!!!   \n",
    "\n",
    "말이 너무 어렵고... [__getitem__](https://jinmay.github.io/2019/11/26/python/python-instance-slice/) 과 [__getitem__이해](https://codesample-factory.tistory.com/565) 블로그에 잘 설명되어있음. `__getitem__`은 파이썬이 내부적으로 호출하는 메직메서드. java gettersetter 같은 애들? 아무튼 `obj[key]` 와 같은 형태의 호출을 구현하는데 사용됨"
   ]
  },
  {
   "cell_type": "code",
   "execution_count": 12,
   "metadata": {},
   "outputs": [],
   "source": [
    "class Items:\n",
    "    def __init__(self, *values):\n",
    "        self._values = list(values)\n",
    "    \n",
    "    def __len__(self):\n",
    "        return len(self._values)\n",
    "    \n",
    "    def __getitem__(self, item):\n",
    "        return self._values.__getitem__(item)"
   ]
  },
  {
   "cell_type": "markdown",
   "metadata": {},
   "source": [
    "- 캡슐화 방식 사용함(다른 방식으로도 상속 사용할 수 있음)\n",
    "뭐라는겨...내일보자...."
   ]
  },
  {
   "cell_type": "code",
   "execution_count": null,
   "metadata": {},
   "outputs": [],
   "source": []
  }
 ],
 "metadata": {
  "kernelspec": {
   "display_name": "Python 3",
   "language": "python",
   "name": "python3"
  },
  "language_info": {
   "codemirror_mode": {
    "name": "ipython",
    "version": 3
   },
   "file_extension": ".py",
   "mimetype": "text/x-python",
   "name": "python",
   "nbconvert_exporter": "python",
   "pygments_lexer": "ipython3",
   "version": "3.8.5"
  }
 },
 "nbformat": 4,
 "nbformat_minor": 4
}
